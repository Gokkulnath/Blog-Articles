{
 "cells": [
  {
   "cell_type": "markdown",
   "metadata": {},
   "source": [
    "## Implementation of BackPropagation Using Numpy"
   ]
  },
  {
   "cell_type": "code",
   "execution_count": 7,
   "metadata": {
    "collapsed": false,
    "scrolled": true
   },
   "outputs": [],
   "source": [
    "import numpy as np\n"
   ]
  },
  {
   "cell_type": "code",
   "execution_count": 8,
   "metadata": {
    "collapsed": false
   },
   "outputs": [],
   "source": [
    "inp=[[0,0,0],[0,0,1],[0,1,0],[0,1,1],[1,0,0],[1,0,1],[1,1,0],[1,1,1]]\n",
    "bias=np.random.rand(8,1)\n",
    "op=[[0],[1],[1],[0],[1],[0],[0],[1]]"
   ]
  },
  {
   "cell_type": "code",
   "execution_count": 13,
   "metadata": {
    "collapsed": false,
    "scrolled": true
   },
   "outputs": [],
   "source": [
    "input_xor=np.array(inp,dtype=float)\n",
    "y=np.array(op)\n",
    "num_epochs=1001\n",
    "\n",
    "w1=2*np.random.randn(3,5)-1\n",
    "w2=2*np.random.randn(5,1)-1\n",
    "\n",
    "#print (w1)\n",
    "#print (w2)"
   ]
  },
  {
   "cell_type": "code",
   "execution_count": 14,
   "metadata": {
    "collapsed": false
   },
   "outputs": [
    {
     "name": "stdout",
     "output_type": "stream",
     "text": [
      "Trainning Data Size : (8, 3)\n",
      "Trainning Label Size: (8, 1)\n",
      "bias Shape : (8, 1)\n"
     ]
    }
   ],
   "source": [
    "# Shape Sanity Check\n",
    "print (\"Trainning Data Size :\", input_xor.shape)\n",
    "print (\"Trainning Label Size:\" ,y.shape)\n",
    "print (\"bias Shape :\" ,bias.shape)"
   ]
  },
  {
   "cell_type": "code",
   "execution_count": 15,
   "metadata": {
    "collapsed": true
   },
   "outputs": [],
   "source": [
    "def sigmoid(x):\n",
    "    return (1/(1+np.exp(-x)))\n",
    "def sigmoid_derivative(x):\n",
    "    return x*(1-x)"
   ]
  },
  {
   "cell_type": "code",
   "execution_count": 16,
   "metadata": {
    "collapsed": false
   },
   "outputs": [
    {
     "name": "stdout",
     "output_type": "stream",
     "text": [
      "Error: 0.493527679744\n",
      "Error: 0.488599410861\n",
      "Error: 0.453606925265\n",
      "Error: 0.405505997154\n",
      "Error: 0.263058328082\n",
      "Error: 0.145188244089\n",
      "Error: 0.104445424189\n",
      "Error: 0.0828915167248\n",
      "Error: 0.0677189616663\n",
      "Error: 0.0567077817348\n",
      "Error: 0.0489569815712\n"
     ]
    }
   ],
   "source": [
    "for j in range(num_epochs):\n",
    "    \n",
    "    lay1=input_xor\n",
    "    #print(\"Shape of Layer 1\",lay1.shape)\n",
    "    lay2= sigmoid(np.dot(lay1,w1))\n",
    "    #print(\"Shape of Layer 2\",lay2.shape)\n",
    "\n",
    "    Oplayer= sigmoid(np.dot(lay2,w2))\n",
    "    #print(\"Shape of Oplayer\",Oplayer.shape)\n",
    "    error=y-Oplayer\n",
    "    #print(\"Error Shape\",error.shape)\n",
    "\n",
    "\n",
    "    if (j% 100) == 0:\n",
    "        print (\"Error:\" , str(np.mean(np.abs(error))))\n",
    "\n",
    "    l2_grad=error*sigmoid_derivative(Oplayer)\n",
    "\n",
    "    #print(\"Shape of Gradient\",l2_grad.shape)\n",
    "    l1_error=l2_grad.dot(w2.T)\n",
    "\n",
    "    #print(\"Shape of Layer 1 Error\",l1_error.shape)\n",
    "\n",
    "    l1_grad=l1_error*sigmoid_derivative(lay2)\n",
    "    #print(\"Shape of Gradients to Layer 1\",l1_grad.shape)\n",
    "\n",
    "    w2+=lay2.T.dot(l2_grad)\n",
    "    w1+=lay1.T.dot(l1_grad)\n",
    "    "
   ]
  },
  {
   "cell_type": "markdown",
   "metadata": {},
   "source": [
    "## ToDo:\n",
    "\n",
    "Understand Completely how BackPropgation it Gradient Flows Through the Nodes:\n",
    "Include The Effect of Bias and update it\n",
    "\n",
    "Try Implementing Multiple Layers Instead 2 Layers Say 4 Layers Deep\n",
    "\n"
   ]
  },
  {
   "cell_type": "code",
   "execution_count": null,
   "metadata": {
    "collapsed": true
   },
   "outputs": [],
   "source": []
  }
 ],
 "metadata": {
  "kernelspec": {
   "display_name": "Python3",
   "language": "python",
   "name": "python3"
  },
  "language_info": {
   "codemirror_mode": {
    "name": "ipython",
    "version": 3
   },
   "file_extension": ".py",
   "mimetype": "text/x-python",
   "name": "python",
   "nbconvert_exporter": "python",
   "pygments_lexer": "ipython3",
   "version": "3.6.1"
  },
  "varInspector": {
   "cols": {
    "lenName": 16,
    "lenType": 16,
    "lenVar": 40
   },
   "kernels_config": {
    "python": {
     "delete_cmd_postfix": "",
     "delete_cmd_prefix": "del ",
     "library": "var_list.py",
     "varRefreshCmd": "print(var_dic_list())"
    },
    "r": {
     "delete_cmd_postfix": ") ",
     "delete_cmd_prefix": "rm(",
     "library": "var_list.r",
     "varRefreshCmd": "cat(var_dic_list()) "
    }
   },
   "position": {
    "height": "524px",
    "left": "766px",
    "right": "20px",
    "top": "24px",
    "width": "583px"
   },
   "types_to_exclude": [
    "module",
    "function",
    "builtin_function_or_method",
    "instance",
    "_Feature"
   ],
   "window_display": false
  }
 },
 "nbformat": 4,
 "nbformat_minor": 2
}
